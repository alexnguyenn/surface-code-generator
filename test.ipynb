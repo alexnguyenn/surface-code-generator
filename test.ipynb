{
 "cells": [
  {
   "cell_type": "code",
   "execution_count": null,
   "metadata": {},
   "outputs": [],
   "source": [
    "from circuit_new import RotatedSurfaceCode\n",
    "from qiskit import execute, Aer\n",
    "import qiskit.providers.aer.noise as noise"
   ]
  },
  {
   "cell_type": "code",
   "execution_count": null,
   "metadata": {},
   "outputs": [],
   "source": [
    "simulator = Aer.get_backend('qasm_simulator')"
   ]
  },
  {
   "cell_type": "code",
   "execution_count": null,
   "metadata": {},
   "outputs": [],
   "source": [
    "\"\"\"\n",
    "Noise Model Generator\n",
    "\"\"\"\n",
    "def get_noise(p1,p2):\n",
    "\n",
    "    prob_1 = p1  # 1-qubit gate\n",
    "    prob_2 = p2   # 2-qubit gate\n",
    "\n",
    "    # Depolarizing quantum errors\n",
    "    error_1 = noise.depolarizing_error(prob_1, 1)\n",
    "    error_2 = noise.depolarizing_error(prob_2, 2)\n",
    "\n",
    "    # Add errors to noise model\n",
    "    noise_model = noise.NoiseModel()\n",
    "    noise_model.add_all_qubit_quantum_error(error_1, ['u1', 'u2', 'u3'])\n",
    "    noise_model.add_all_qubit_quantum_error(error_2, ['cx'])\n",
    "    \n",
    "    return noise_model"
   ]
  },
  {
   "cell_type": "markdown",
   "metadata": {},
   "source": [
    "## Generating the Circuit"
   ]
  },
  {
   "cell_type": "code",
   "execution_count": null,
   "metadata": {},
   "outputs": [],
   "source": [
    "\"\"\"\n",
    "d - Code Distance\n",
    "T - # of Measurement Rounds\n",
    "\"\"\"\n",
    "\n",
    "d = 3\n",
    "T = 3\n",
    "code = RotatedSurfaceCode(d, T)"
   ]
  },
  {
   "cell_type": "code",
   "execution_count": null,
   "metadata": {},
   "outputs": [],
   "source": [
    "code.circuit.draw(output='mpl', fold=50)"
   ]
  },
  {
   "cell_type": "code",
   "execution_count": null,
   "metadata": {},
   "outputs": [],
   "source": [
    "code.draw_lattice()"
   ]
  },
  {
   "cell_type": "markdown",
   "metadata": {},
   "source": [
    "## No Noise Model"
   ]
  },
  {
   "cell_type": "code",
   "execution_count": null,
   "metadata": {},
   "outputs": [],
   "source": [
    "job = execute(code.circuit, simulator, shots=1)\n",
    "\n",
    "raw_results = job.result().get_counts()\n",
    "\n",
    "code.print_result(raw_results)"
   ]
  },
  {
   "cell_type": "markdown",
   "metadata": {},
   "source": [
    "## With Noise Model"
   ]
  },
  {
   "cell_type": "code",
   "execution_count": null,
   "metadata": {},
   "outputs": [],
   "source": [
    "job = execute(code.circuit, simulator, noise_model=get_noise(0.5, 0.5), shots=1)\n",
    "\n",
    "raw_results = job.result().get_counts()\n",
    "\n",
    "code.print_result(raw_results)"
   ]
  }
 ],
 "metadata": {
  "language_info": {
   "codemirror_mode": {
    "name": "ipython",
    "version": 3
   },
   "file_extension": ".py",
   "mimetype": "text/x-python",
   "name": "python",
   "nbconvert_exporter": "python",
   "pygments_lexer": "ipython3",
   "version": 3
  },
  "orig_nbformat": 2,
  "kernelspec": {
   "name": "python_defaultSpec_1596106514818",
   "display_name": "Python 3.7.6 64-bit ('base': conda)"
  }
 },
 "nbformat": 4,
 "nbformat_minor": 2
}